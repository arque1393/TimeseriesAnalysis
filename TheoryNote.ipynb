{
 "cells": [
  {
   "cell_type": "markdown",
   "metadata": {},
   "source": [
    "# Time Series Analysis"
   ]
  },
  {
   "cell_type": "markdown",
   "metadata": {},
   "source": [
    "#### General Time series formula \n",
    "\n",
    "$Y_{t+1} = f(Y_t,Y_{t-1},Y_{t-2},....)$"
   ]
  },
  {
   "cell_type": "markdown",
   "metadata": {},
   "source": [
    "### Decomposition Method"
   ]
  },
  {
   "cell_type": "markdown",
   "metadata": {},
   "source": [
    "* Components of Time Series \n",
    "    1. **Trend**  $(T_t)$  : Long Term movement\n",
    "    2. **Seasonal**  $(S_t)$  : Intra Year Stable fluctuations repeatable over the entire length of the series \n",
    "    3. **Cyclic**  $(C_t)$  : Events that are repeated in certain duration\n",
    "    4. **Irregular**  $(I_t)$ : Random Movements\n",
    "    \n",
    "Trends and sessional components are systematic components of time series "
   ]
  },
  {
   "cell_type": "markdown",
   "metadata": {},
   "source": [
    "* **Additive Model**:\n",
    "     - $Y_t = T_t+S_t+I_t$\n",
    "* **Multiplicative Model** \n",
    "     - $Y_t = T_t\\times S_t\\times I_t$\n",
    "     - $Y_t= \\log(T_t)+\\log(S_t)+\\log(I_t)$\n"
   ]
  },
  {
   "cell_type": "markdown",
   "metadata": {},
   "source": [
    "#### Measurement of Trends \n",
    "- Free Hand Method (By Ploting)\n",
    "- Semi-Moving-Avarage Method\n",
    "- Moving-Avarage Method\n",
    "- Mathematical Curve Fitting Method\n",
    "#### Measurement of Seasonal Variation \n",
    "- Simple Avarage (Yearly or quarterly)\n",
    "- Ratio to Moving Avarage \n",
    "- Ratio to Trend \n",
    "- Link Relative \n"
   ]
  },
  {
   "cell_type": "markdown",
   "metadata": {},
   "source": [
    "#### Method of Simple Avarage "
   ]
  },
  {
   "cell_type": "markdown",
   "metadata": {},
   "source": [
    "* Seasonal Index is a measure of Seasonal Components \n",
    "\n",
    "Sesonal Index of $i^{\\text{th}}$ Quarters = $\\large{\\frac{\\bar{Q_i}}{\\bar{\\bar{Q}}}\\times 100}$ <br> \n",
    "where $\\bar{\\bar{Q}} = \\frac{1}{n}\\sum\\limits_{i} \\bar{Q}_i$ <br>\n",
    "Quarter can be replaced by 6 month or 2 month or Year depends on the season length "
   ]
  },
  {
   "cell_type": "markdown",
   "metadata": {},
   "source": []
  },
  {
   "cell_type": "markdown",
   "metadata": {},
   "source": []
  },
  {
   "cell_type": "markdown",
   "metadata": {},
   "source": []
  },
  {
   "cell_type": "markdown",
   "metadata": {},
   "source": [
    "### ARIMA Model"
   ]
  },
  {
   "cell_type": "markdown",
   "metadata": {},
   "source": [
    "- $L$ is lag operator\n",
    "- $\\alpha$ is auto regressive component \n",
    "- $\\theta$ moving Average Component \n",
    "$$\\large{\n",
    "\\left( 1-\\sum\\limits_{i=1}^{p^{'}}\\alpha_iL^i\\right)X_t = \\left( 1+\\sum\\limits_{i=1}^{q}\\theta_iL^i\\right)\\varepsilon_t\n",
    "}$$\n",
    "\n",
    "#### ARIMA(p,d,q)\n",
    "$$\\large{\n",
    "\\left( 1-\\sum\\limits_{i=1}^{p}\\phi_iL^i\\right)(1-L)^d X_t = \\left( 1+\\sum\\limits_{i=1}^{q}\\theta_iL^i\\right)\\varepsilon_t\n",
    "}$$"
   ]
  },
  {
   "cell_type": "markdown",
   "metadata": {},
   "source": []
  },
  {
   "cell_type": "markdown",
   "metadata": {},
   "source": []
  }
 ],
 "metadata": {
  "language_info": {
   "name": "python"
  }
 },
 "nbformat": 4,
 "nbformat_minor": 2
}
