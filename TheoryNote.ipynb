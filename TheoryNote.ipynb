{
 "cells": [
  {
   "cell_type": "markdown",
   "metadata": {},
   "source": [
    "### Components of Time Series \n",
    "1. Trend $(T_t)$\n",
    "2. Seasonal $(S_t)$\n",
    "3. Cyclic $(C_t)$\n",
    "4. Irregular $(I_t)$"
   ]
  },
  {
   "cell_type": "markdown",
   "metadata": {},
   "source": [
    "- Additive Models of Time Series \n",
    "    - $U_t = T_t+S_t+C_t+I_t$\n",
    "- Multiplicative Models \n",
    "    - $U_t = T_t\\times S_t\\times C_t\\times I_t$\n",
    "    - $\\log(U_t) = \\log(T_t)+\\log(S_t)+\\log(C_t)+\\log(I_t)$\n"
   ]
  },
  {
   "cell_type": "markdown",
   "metadata": {},
   "source": [
    "#### Measurement of Trends \n",
    "- Free Hand Method (By Ploting)\n",
    "- Semi-Moving-Avarage Method\n",
    "- Moving-Avarage Method\n",
    "- Mathematical Curve Fitting Method\n",
    "#### Measurement of Seasonal Variation \n",
    "- Simple Avarage (Yearly or quarterly)\n",
    "- Ratio to Moving Avarage \n",
    "- Ratio to Trend \n",
    "- Link Relative \n"
   ]
  },
  {
   "cell_type": "markdown",
   "metadata": {},
   "source": [
    "#### Method of Simple Avarage "
   ]
  },
  {
   "cell_type": "markdown",
   "metadata": {},
   "source": [
    "* Seasonal Index is a measure of Seasonal Components \n",
    "\n",
    "Sesonal Index of $i^{\\text{th}}$ Quarters = $\\large{\\frac{\\bar{Q_i}}{\\bar{\\bar{Q}}}\\times 100}$ <br> \n",
    "where $\\bar{\\bar{Q}} = \\frac{1}{n}\\sum\\limits_{i} \\bar{Q}_i$ <br>\n",
    "Quarter can be replaced by 6 month or 2 month or Year depends on the season length "
   ]
  },
  {
   "cell_type": "markdown",
   "metadata": {},
   "source": []
  }
 ],
 "metadata": {
  "language_info": {
   "name": "python"
  }
 },
 "nbformat": 4,
 "nbformat_minor": 2
}
