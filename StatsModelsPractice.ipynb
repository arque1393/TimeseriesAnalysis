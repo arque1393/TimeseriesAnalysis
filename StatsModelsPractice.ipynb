{
 "cells": [
  {
   "cell_type": "code",
   "execution_count": 5,
   "id": "077750eb-2c99-422c-aa48-e1a235728bfa",
   "metadata": {},
   "outputs": [],
   "source": [
    "import statsmodels as sm"
   ]
  },
  {
   "cell_type": "code",
   "execution_count": 6,
   "id": "de10bea0-5b2b-4e36-8062-29db7fa8e683",
   "metadata": {
    "scrolled": true
   },
   "outputs": [
    {
     "data": {
      "text/plain": [
       "['__all__',\n",
       " '__builtins__',\n",
       " '__cached__',\n",
       " '__doc__',\n",
       " '__file__',\n",
       " '__init__',\n",
       " '__loader__',\n",
       " '__name__',\n",
       " '__package__',\n",
       " '__path__',\n",
       " '__spec__',\n",
       " '__version__',\n",
       " '__version_info__',\n",
       " '__version_tuple__',\n",
       " '_version',\n",
       " 'api',\n",
       " 'base',\n",
       " 'compat',\n",
       " 'datasets',\n",
       " 'debug_warnings',\n",
       " 'discrete',\n",
       " 'distributions',\n",
       " 'duration',\n",
       " 'emplike',\n",
       " 'formula',\n",
       " 'gam',\n",
       " 'genmod',\n",
       " 'graphics',\n",
       " 'imputation',\n",
       " 'iolib',\n",
       " 'monkey_patch_cat_dtype',\n",
       " 'multivariate',\n",
       " 'nonparametric',\n",
       " 'regression',\n",
       " 'robust',\n",
       " 'sandbox',\n",
       " 'stats',\n",
       " 'test',\n",
       " 'tools',\n",
       " 'tsa']"
      ]
     },
     "execution_count": 6,
     "metadata": {},
     "output_type": "execute_result"
    }
   ],
   "source": [
    "dir (sm)"
   ]
  },
  {
   "cell_type": "code",
   "execution_count": null,
   "id": "a503fc95-0bce-44dc-b497-af624260b244",
   "metadata": {},
   "outputs": [],
   "source": []
  }
 ],
 "metadata": {
  "kernelspec": {
   "display_name": "Python 3 (Spyder)",
   "language": "python3",
   "name": "python3"
  },
  "language_info": {
   "codemirror_mode": {
    "name": "ipython",
    "version": 3
   },
   "file_extension": ".py",
   "mimetype": "text/x-python",
   "name": "python",
   "nbconvert_exporter": "python",
   "pygments_lexer": "ipython3",
   "version": "3.11.7"
  }
 },
 "nbformat": 4,
 "nbformat_minor": 5
}
